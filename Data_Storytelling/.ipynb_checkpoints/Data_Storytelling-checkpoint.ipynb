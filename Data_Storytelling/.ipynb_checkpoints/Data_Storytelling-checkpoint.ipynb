{
 "cells": [
  {
   "cell_type": "code",
   "execution_count": null,
   "metadata": {
    "collapsed": true
   },
   "outputs": [],
   "source": [
    "import pandas as pd\n",
    "import numpy as np\n",
    "import matplotlib.pyplot as plt\n",
    "from scipy import stats"
   ]
  },
  {
   "cell_type": "code",
   "execution_count": null,
   "metadata": {
    "collapsed": true
   },
   "outputs": [],
   "source": [
    "def pace_calculator(FGA, FTA, OREB, OPPDREB, FG, TOV, MIN):\n",
    "    return 240 * (FGA + 0.4 * FTA - 1.07 * (FGA-FG)* (OREB/(OREB + OPPDREB)) + TOV) / MIN"
   ]
  },
  {
   "cell_type": "code",
   "execution_count": null,
   "metadata": {
    "collapsed": true
   },
   "outputs": [],
   "source": [
    "def points_data(year):\n",
    "    \n",
    "    player = 'raw_data/player_stats_'+year+'.csv'\n",
    "    team = 'raw_data/team_stats_'+year+'.csv'\n",
    "    player_over='raw_data/player_overall_15minsplus'+year+'.csv'\n",
    "    data = pd.read_csv(player)\n",
    "    team_data = pd.read_csv(team)\n",
    "    player_overall = pd.read_csv(player_over)\n",
    "\n",
    "    \n",
    "    team_data['VS_TEAM_ABBREVIATION'] = team_data['MATCHUP'].str[-3:]\n",
    "    new_team = team_data[['TEAM_ID','TEAM_ABBREVIATION','VS_TEAM_ABBREVIATION', 'GAME_ID', 'GAME_DATE', 'FGM', 'FTA', 'FGA','OREB','DREB', 'TOV','MIN']]\n",
    "    cols = ['TEAM_ABBREVIATION','GAME_ID','DREB']\n",
    "    temp_col = team_data[cols]\n",
    "    temp_col.columns = ['TEAM_ABBREVIATION','GAME_ID','OPPDREB']\n",
    "    \n",
    "    cleaned_team = pd.merge(new_team, temp_col, how='inner', left_on=['GAME_ID','VS_TEAM_ABBREVIATION'], right_on=['GAME_ID','TEAM_ABBREVIATION'], copy=False).drop('TEAM_ABBREVIATION_y', axis=1).rename(columns = {'TEAM_ABBREVIATION_x': 'TEAM_ABBREVIATION'})\n",
    "    cleaned_team['PACE'] = pace_calculator(FGA = cleaned_team['FGA'], FTA = cleaned_team['FTA'], OREB = cleaned_team['OREB'], OPPDREB=cleaned_team['OPPDREB'], FG = cleaned_team['FGM'], TOV = cleaned_team['TOV'], MIN = cleaned_team['MIN'])\n",
    "    pace = cleaned_team[['TEAM_ABBREVIATION', 'GAME_ID', 'PACE']]\n",
    "    cleaned_team2 = pd.merge(cleaned_team, pace, how='inner', left_on=['GAME_ID','VS_TEAM_ABBREVIATION'], right_on=['GAME_ID','TEAM_ABBREVIATION'], copy=False).drop('TEAM_ABBREVIATION_y', axis=1).rename(columns = {'TEAM_ABBREVIATION_x': 'TEAM_ABBREVIATION', 'PACE_x': 'TEAM_PACE', 'PACE_y': 'VS_TEAM_PACE'})\n",
    "    team_schedule = cleaned_team2[['TEAM_ID','TEAM_ABBREVIATION', 'VS_TEAM_ABBREVIATION','GAME_ID', 'TEAM_PACE', 'VS_TEAM_PACE']].sort_values(['TEAM_ABBREVIATION','GAME_ID'])\n",
    "    team_schedule['GAME_NUMBER'] = np.array(list(range(82))*30)\n",
    "    \n",
    "    player_overall = player_overall[player_overall['GP'] > 30][['PLAYER_ID', 'PLAYER_NAME', 'PTS']]\n",
    "    players = player_overall['PLAYER_ID'].tolist()\n",
    "    data = data[data['PLAYER_ID'].isin(players)]\n",
    "    data_with_number = pd.merge(data, team_schedule, how='left', left_on=['TEAM_ID', 'GAME_ID'], right_on=['TEAM_ID', 'GAME_ID'])\n",
    "    data_with_number = data_with_number.sort_values(['PLAYER_ID', 'GAME_NUMBER'])\n",
    "        \n",
    "    data_with_number['YEAR'] = year \n",
    "    return data_with_number[['YEAR','GAME_NUMBER', 'GAME_DATE', 'TEAM_NAME', 'PLAYER_NAME','PLAYER_ID', 'MIN', 'PTS', 'TEAM_PACE', 'VS_TEAM_PACE']]"
   ]
  },
  {
   "cell_type": "code",
   "execution_count": null,
   "metadata": {
    "collapsed": true
   },
   "outputs": [],
   "source": [
    "points_2014 = points_data('2014-15')\n",
    "points_2015 = points_data('2015-16')\n",
    "points_2016 = points_data('2016-17')\n",
    "\n",
    "combined = pd.concat([points_2014, points_2015, points_2016])\n",
    "combined_less45 = combined[combined['PTS'] < 45]\n",
    "combined['PTS'].describe()"
   ]
  },
  {
   "cell_type": "code",
   "execution_count": null,
   "metadata": {
    "collapsed": true
   },
   "outputs": [],
   "source": [
    "_ = plt.hist(combined_less45['PTS'], bins=45)\n",
    "analysis = combined[combined['PTS'] > 30]\n",
    "players_above30 = analysis['PLAYER_NAME'].value_counts()\n",
    "total_games_above30 = np.sum(players_above30)\n",
    "\n",
    "_ = plt.scatter(combined_less45['VS_TEAM_PACE'], combined_less45['PTS'])\n",
    "_ = plt.xlabel('Game Pace')\n",
    "_ = plt.ylabel('Points')\n",
    "plt.show()\n",
    "\n",
    "combined_less45[['GAME_NUMBER', 'PTS']].groupby(['GAME_NUMBER']).mean().plot()\n",
    "p = stats.pearsonr(combined_less45['PTS'], combined_less45['TEAM_PACE'])"
   ]
  }
 ],
 "metadata": {
  "kernelspec": {
   "display_name": "Python 3",
   "language": "python",
   "name": "python3"
  },
  "language_info": {
   "codemirror_mode": {
    "name": "ipython",
    "version": 3
   },
   "file_extension": ".py",
   "mimetype": "text/x-python",
   "name": "python",
   "nbconvert_exporter": "python",
   "pygments_lexer": "ipython3",
   "version": "3.6.0"
  }
 },
 "nbformat": 4,
 "nbformat_minor": 2
}
